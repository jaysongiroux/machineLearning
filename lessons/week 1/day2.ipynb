{
 "cells": [
  {
   "cell_type": "markdown",
   "metadata": {},
   "source": [
    "## numPy"
   ]
  },
  {
   "cell_type": "code",
   "execution_count": 106,
   "metadata": {},
   "outputs": [
    {
     "data": {
      "text/plain": [
       "'1.23.5'"
      ]
     },
     "execution_count": 106,
     "metadata": {},
     "output_type": "execute_result"
    }
   ],
   "source": [
    "import numpy as np\n",
    "np.__version__"
   ]
  },
  {
   "cell_type": "code",
   "execution_count": 107,
   "metadata": {},
   "outputs": [
    {
     "name": "stdout",
     "output_type": "stream",
     "text": [
      "shape:  (10,)\n",
      "data type:  int64\n",
      "number of dimensions:  1\n",
      "size:  10\n",
      "example 2: size:  20\n",
      "item size:  8\n",
      "example 2: item size:  8\n"
     ]
    }
   ],
   "source": [
    "example = np.array([1,2,3,4,5,6,7,8,9,10])\n",
    "example_2 = np.array([[1,2,3,4,5,6,7,8,9,10],[1,2,3,4,5,6,7,8,9,10]])\n",
    "\n",
    "print(\"shape: \", example.shape)\n",
    "print(\"data type: \", example.dtype)\n",
    "print(\"number of dimensions: \",example.ndim)\n",
    "print(\"size: \", example.size)\n",
    "print(\"example 2: size: \", example_2.size)\n",
    "print(\"item size: \", example.itemsize)\n",
    "print(\"example 2: item size: \", example_2.itemsize)"
   ]
  },
  {
   "cell_type": "code",
   "execution_count": 108,
   "metadata": {},
   "outputs": [
    {
     "name": "stdout",
     "output_type": "stream",
     "text": [
      "original example:  [ 1  2  3  4  5  6  7  8  9 10]\n",
      "modified example:  [ 1  2  5  4  5  6  7  8  9 10]\n"
     ]
    }
   ],
   "source": [
    "print(\"original example: \", example)\n",
    "example[2] = 5\n",
    "print(\"modified example: \", example)"
   ]
  },
  {
   "cell_type": "code",
   "execution_count": 109,
   "metadata": {},
   "outputs": [
    {
     "name": "stdout",
     "output_type": "stream",
     "text": [
      "57\n",
      "110\n"
     ]
    }
   ],
   "source": [
    "# sum an np array\n",
    "print(example.sum())\n",
    "print(example_2.sum())"
   ]
  },
  {
   "cell_type": "code",
   "execution_count": 110,
   "metadata": {},
   "outputs": [
    {
     "name": "stdout",
     "output_type": "stream",
     "text": [
      "[ 2  4 10  8 10 12 14 16 18 20]\n"
     ]
    }
   ],
   "source": [
    "# matrix multiplication\n",
    "example_result = example * 2\n",
    "print(example_result)"
   ]
  },
  {
   "cell_type": "code",
   "execution_count": 111,
   "metadata": {},
   "outputs": [
    {
     "name": "stdout",
     "output_type": "stream",
     "text": [
      "[1, 2, 3, 4, 5, 1, 2, 3, 4, 5]\n",
      "[ 2  4  6  8 10]\n"
     ]
    }
   ],
   "source": [
    "example_list = [1, 2, 3, 4, 5]\n",
    "print(2 * example_list) # prints the list two times\n",
    "example_array = np.array([1, 2, 3, 4, 5])\n",
    "print(2 * example_array) # multiplies each element by 2"
   ]
  },
  {
   "cell_type": "code",
   "execution_count": 112,
   "metadata": {},
   "outputs": [
    {
     "name": "stdout",
     "output_type": "stream",
     "text": [
      "11\n"
     ]
    }
   ],
   "source": [
    "# dot product\n",
    "dot = 0\n",
    "a = np.array([1,2])\n",
    "b = np.array([3,4])\n",
    "\n",
    "for i in range(len(a)):\n",
    "  dot += a[i]*b[i]\n",
    "\n",
    "print(dot)"
   ]
  },
  {
   "cell_type": "code",
   "execution_count": 162,
   "metadata": {},
   "outputs": [
    {
     "name": "stdout",
     "output_type": "stream",
     "text": [
      "time with lists: 8.636911667000277 s\n",
      "time with numpy: 0.04848462500012829 s\n",
      "numpy is 178.13712423221637 times faster\n"
     ]
    }
   ],
   "source": [
    "# testing numpy speed\n",
    "from timeit import default_timer as timer\n",
    "a = np.random.randn(100000)\n",
    "b = np.random.randn(100000)\n",
    "A = list(a)\n",
    "B = list(b)\n",
    "T = 1000\n",
    "\n",
    "def dot1():\n",
    "    dot = 0\n",
    "    for i in range(len(A)):\n",
    "        dot += A[i]*B[i]\n",
    "    return dot\n",
    "\n",
    "def dot2():\n",
    "    return np.dot(a,b)\n",
    "\n",
    "start = timer()\n",
    "for t in range(T):\n",
    "    dot1()\n",
    "end = timer()\n",
    "t1 = end - start\n",
    "\n",
    "start = timer()\n",
    "for t in range(T):\n",
    "    dot2()\n",
    "end = timer()\n",
    "t2 = end - start\n",
    "\n",
    "print(f'time with lists: {t1} s')\n",
    "print(f'time with numpy: {t2} s')\n",
    "print(f'numpy is {t1/t2} times faster')"
   ]
  },
  {
   "cell_type": "code",
   "execution_count": 163,
   "metadata": {},
   "outputs": [
    {
     "name": "stdout",
     "output_type": "stream",
     "text": [
      "[[1 3]\n",
      " [4 6]]\n",
      "(2, 2)\n",
      "[1 3]\n",
      "1\n",
      "1\n",
      "[1 4]\n",
      "[1 3]\n"
     ]
    }
   ],
   "source": [
    "# multidimensional arrays\n",
    "a = np.array([[1,3], [4,6]])\n",
    "print(a)\n",
    "print(a.shape)\n",
    "\n",
    "# accessing elements\n",
    "print(a[0]) #row\n",
    "print(a[0][0]) #element\n",
    "print(a[0,0]) #element\n",
    "\n",
    "# slicing\n",
    "print(a[:,0]) #all rows in col 0\n",
    "print(a[0,:]) # all cols in row 0"
   ]
  },
  {
   "cell_type": "code",
   "execution_count": 164,
   "metadata": {},
   "outputs": [
    {
     "name": "stdout",
     "output_type": "stream",
     "text": [
      "[[1 4]\n",
      " [3 6]]\n"
     ]
    }
   ],
   "source": [
    "# Transpose\n",
    "print(a.T)"
   ]
  },
  {
   "cell_type": "code",
   "execution_count": 165,
   "metadata": {},
   "outputs": [
    {
     "name": "stdout",
     "output_type": "stream",
     "text": [
      "[[1 3]\n",
      " [4 6]]\n",
      "[[ 1  6]\n",
      " [16 30]]\n"
     ]
    }
   ],
   "source": [
    "print(a)\n",
    "b = np.array([[1,2], [4,5]])\n",
    "c = a.dot(b)\n",
    "d = a * b\n",
    "print(d)"
   ]
  },
  {
   "cell_type": "code",
   "execution_count": 166,
   "metadata": {},
   "outputs": [
    {
     "name": "stdout",
     "output_type": "stream",
     "text": [
      "-6.0\n",
      "[[-1.          0.5       ]\n",
      " [ 0.66666667 -0.16666667]]\n",
      "[1 6]\n",
      "[[1 0]\n",
      " [0 3]]\n"
     ]
    }
   ],
   "source": [
    "# determinant\n",
    "c = np.linalg.det(a)\n",
    "print(c)\n",
    "\n",
    "# inverse\n",
    "d = np.linalg.inv(a)\n",
    "print(d)\n",
    "\n",
    "# diagonal\n",
    "c = np.diag(a)\n",
    "print(c)\n",
    "\n",
    "# diag on a vector\n",
    "c = np.diag([1,3])\n",
    "print(c)\n"
   ]
  },
  {
   "cell_type": "code",
   "execution_count": 167,
   "metadata": {},
   "outputs": [
    {
     "name": "stdout",
     "output_type": "stream",
     "text": [
      "2\n",
      "[1 2 3 4]\n",
      "[1 5 9]\n",
      "[[1 2]\n",
      " [5 6]]\n",
      "12\n",
      "[ 6  7  8  9 10 11 12]\n",
      "[[False False  True  True]\n",
      " [ True  True  True  True]\n",
      " [ True  True  True  True]]\n",
      "[ 3  4  5  6  7  8  9 10 11 12]\n",
      "[[-1 -1  1  1]\n",
      " [ 1  1  1  1]\n",
      " [ 1  1  1  1]]\n",
      "[1 6 9]\n",
      "[1 3 5 7]\n",
      "[2 4 6 8]\n"
     ]
    }
   ],
   "source": [
    "# indexing, slicing and boolean indexing\n",
    "a = np.array([[1,2,3,4], [5,6,7,8], [9, 10, 11, 12]])\n",
    "\n",
    "# indexing\n",
    "print(a[0,1])\n",
    "\n",
    "# slicing\n",
    "print(a[0,:])\n",
    "print(a[:,0])\n",
    "print(a[0:2, 0:2])\n",
    "\n",
    "# indexing starting at the end\n",
    "print(a[-1, -1])\n",
    "\n",
    "# boolean indexing\n",
    "print(a[a > 5])\n",
    "\n",
    "bool_idx = a > 2\n",
    "print(bool_idx)\n",
    "print(a[bool_idx])\n",
    "print(np.where(a >2, 1, -1))\n",
    "\n",
    "# fancy indexing\n",
    "print(a[[0, 1, 2], [0, 1, 0]])\n",
    "\n",
    "a = np.array([1, 2, 3, 4, 5, 6, 7, 8])\n",
    "even = np.argwhere(a % 2 == 0).flatten()\n",
    "print(even)\n",
    "a_even = a[even]\n",
    "print(a_even)"
   ]
  },
  {
   "cell_type": "code",
   "execution_count": 168,
   "metadata": {},
   "outputs": [
    {
     "name": "stdout",
     "output_type": "stream",
     "text": [
      "[1 2 3 4 5 6]\n",
      "[[1 2 3]\n",
      " [4 5 6]]\n",
      "[[1 2]\n",
      " [3 4]\n",
      " [5 6]]\n",
      "(6,)\n",
      "[[1 2 3 4 5 6]]\n",
      "(1, 6)\n",
      "[[1]\n",
      " [2]\n",
      " [3]\n",
      " [4]\n",
      " [5]\n",
      " [6]]\n",
      "(6, 1)\n"
     ]
    }
   ],
   "source": [
    "# reshaping\n",
    "a = np.arange(1,7)\n",
    "print(a)\n",
    "\n",
    "b = a.reshape((2,3))\n",
    "print(b)\n",
    "\n",
    "c = a.reshape((3,2))\n",
    "print(c)\n",
    "\n",
    "# reshaping using newaxis\n",
    "print(a.shape)\n",
    "d = a[np.newaxis, :]\n",
    "print(d)\n",
    "print(d.shape)\n",
    "\n",
    "e = a[:, np.newaxis]\n",
    "print(e)\n",
    "print(e.shape)"
   ]
  },
  {
   "cell_type": "code",
   "execution_count": 169,
   "metadata": {},
   "outputs": [
    {
     "name": "stdout",
     "output_type": "stream",
     "text": [
      "[[1 2]\n",
      " [5 6]]\n",
      "[[7 8]]\n",
      "[[1 2]\n",
      " [5 6]\n",
      " [7 8]]\n",
      "[[1 2]\n",
      " [5 6]\n",
      " [7 8]]\n",
      "[[1 2 7]\n",
      " [5 6 8]]\n"
     ]
    }
   ],
   "source": [
    "# concatenation\n",
    "a = np.array([[1,2],[5,6]])\n",
    "b = np.array([[7,8]])\n",
    "print(a)\n",
    "print(b)\n",
    "\n",
    "c = np.concatenate((a,b), axis=0)\n",
    "print(c)\n",
    "\n",
    "# add a new row\n",
    "d = np.concatenate((a,b), axis=0)\n",
    "print(d)\n",
    "\n",
    "e = np.concatenate((a,b.T), axis=1)\n",
    "print(e)"
   ]
  },
  {
   "cell_type": "code",
   "execution_count": 170,
   "metadata": {},
   "outputs": [
    {
     "name": "stdout",
     "output_type": "stream",
     "text": [
      "[1 2 3 4 5 6]\n",
      "[[1]\n",
      " [2]\n",
      " [3]\n",
      " [4]\n",
      " [5]\n",
      " [6]]\n"
     ]
    }
   ],
   "source": [
    "# hstack and vstack\n",
    "a = np.array([1,2,3])\n",
    "b = np.array([4,5,6])\n",
    "\n",
    "c = np.hstack((a,b))\n",
    "print(c)\n",
    "\n",
    "a = np.array([[1],[2],[3]])\n",
    "b = np.array([[4],[5],[6]])\n",
    "\n",
    "c = np.vstack((a,b))\n",
    "print(c)"
   ]
  },
  {
   "cell_type": "code",
   "execution_count": 171,
   "metadata": {},
   "outputs": [
    {
     "name": "stdout",
     "output_type": "stream",
     "text": [
      "[[ 2  4  6  8]\n",
      " [ 6  8 10 12]]\n"
     ]
    }
   ],
   "source": [
    "# broadcasting\n",
    "a = np.array([[1,2,3,4], [5,6,7,8]])\n",
    "b = np.array([1,2,3,4])\n",
    "\n",
    "c = a + b\n",
    "print(c)"
   ]
  },
  {
   "cell_type": "code",
   "execution_count": 172,
   "metadata": {},
   "outputs": [
    {
     "name": "stdout",
     "output_type": "stream",
     "text": [
      "21\n",
      "21\n",
      "[5 7 9]\n",
      "[ 6 15]\n",
      "[2.5 3.5 4.5]\n",
      "[2. 5.]\n"
     ]
    }
   ],
   "source": [
    "# functions and axis\n",
    "a  = np.array([[1,2,3],[4,5,6]])\n",
    "print(a.sum()) # default = None => Overall sum\n",
    "print(a.sum(axis=None)) # overall sum\n",
    "print(a.sum(axis=0)) # sum of each row\n",
    "print(a.sum(axis=1)) # sum of each column\n",
    "\n",
    "print(a.mean(axis=0)) # mean of each row\n",
    "print(a.mean(axis=1)) # mean of each column\n",
    "\n",
    "# some other functions: std, var, min, max, ..."
   ]
  },
  {
   "cell_type": "code",
   "execution_count": 173,
   "metadata": {},
   "outputs": [
    {
     "name": "stdout",
     "output_type": "stream",
     "text": [
      "int64\n",
      "float64\n",
      "int64\n",
      "int32\n"
     ]
    }
   ],
   "source": [
    "# datatypes\n",
    "x = np.array([1,2])\n",
    "print(x.dtype)\n",
    "\n",
    "x = np.array([1.0,2.0])\n",
    "print(x.dtype)\n",
    "\n",
    "# force a datatype\n",
    "x = np.array([1,2], dtype=np.int64) # 8 bytes\n",
    "print(x.dtype)\n",
    "\n",
    "x = np.array([1,2], dtype=np.int32) # 4 bytes\n",
    "print(x.dtype)"
   ]
  },
  {
   "cell_type": "code",
   "execution_count": 174,
   "metadata": {},
   "outputs": [
    {
     "name": "stdout",
     "output_type": "stream",
     "text": [
      "[100   2   3   4   5]\n",
      "[100   2   3   4   5]\n",
      "[100   2   3   4   5]\n",
      "[1000    2    3    4    5]\n"
     ]
    }
   ],
   "source": [
    "# copying\n",
    "a = np.array([1,2,3,4,5])\n",
    "b = a\n",
    "# this will modify a as well\n",
    "b[0] = 100\n",
    "\n",
    "print(a)\n",
    "print(b)\n",
    "\n",
    "b = a.copy()\n",
    "b[0] = 1000\n",
    "\n",
    "print(a)\n",
    "print(b)"
   ]
  },
  {
   "cell_type": "code",
   "execution_count": 175,
   "metadata": {},
   "outputs": [
    {
     "name": "stdout",
     "output_type": "stream",
     "text": [
      "[[0. 0.]\n",
      " [0. 0.]]\n",
      "[[1. 1.]]\n",
      "[[7 7]\n",
      " [7 7]]\n",
      "[[1. 0.]\n",
      " [0. 1.]]\n",
      "[0 1 2 3 4 5 6 7 8 9]\n",
      "[ 0.   2.5  5.   7.5 10. ]\n",
      "[[0.82663887 0.07219693]\n",
      " [0.01670803 0.74178286]]\n",
      "[[-0.91793254  0.82063731]\n",
      " [ 0.14900966 -1.911465  ]]\n",
      "-0.0035918310597463448 0.9693439477147077 0.9845526637588807\n",
      "[[0 7]\n",
      " [6 3]]\n",
      "[1 6 2 3 1 4 1 5 0 1]\n",
      "[22 39 10 10 22 39 46 10]\n"
     ]
    }
   ],
   "source": [
    "# generating arrays\n",
    "\n",
    "a = np.zeros((2,2)) # Create an array of all zeros\n",
    "print(a) # Prints \"[[ 0.  0.]\n",
    "\n",
    "a = np.ones((1,2)) # Create an array of all ones\n",
    "print(a)\n",
    "\n",
    "a = np.full((2,2), 7) # Create a constant array\n",
    "print(a) # Prints \"[[ 7.  7.]\n",
    "\n",
    "a = np.eye(2) # Create a 2x2 identity matrix\n",
    "print(a) # Prints \"[[ 1.  0.]\n",
    "\n",
    "# 0...10\n",
    "a = np.arange(10)\n",
    "print(a)\n",
    "\n",
    "# linspace\n",
    "a = np.linspace(0, 10, 5) # Create an array of 6 values evenly spaced between 0 and 1\n",
    "print(a)\n",
    "\n",
    "# random numbers\n",
    "a = np.random.random((2,2)) # Create an array filled with random values\n",
    "print(a)\n",
    "\n",
    "# \"normal\" distribution\n",
    "a = np.random.randn(2,2) # Create an array filled with random values\n",
    "print(a)\n",
    "\n",
    "a = np.random.randn(1000)\n",
    "# should be close to 1\n",
    "print(a.mean(), a.var(), a.std())\n",
    "\n",
    "# random ints\n",
    "a = np.random.randint(0, 10, (2,2)) # Create an array filled with random values\n",
    "print(a)\n",
    "\n",
    "a = np.random.choice(7, size=10)\n",
    "print(a)\n",
    "\n",
    "a = np.random.choice([10, 22, 39, 46], size=8)\n",
    "print(a)"
   ]
  },
  {
   "cell_type": "code",
   "execution_count": 176,
   "metadata": {},
   "outputs": [
    {
     "name": "stdout",
     "output_type": "stream",
     "text": [
      "[ 1.61168440e+01 -1.11684397e+00 -8.58274334e-16]\n",
      "[[-0.23197069 -0.78583024  0.40824829]\n",
      " [-0.52532209 -0.08675134 -0.81649658]\n",
      " [-0.8186735   0.61232756  0.40824829]]\n",
      "[-0.23197069 -0.52532209 -0.8186735 ]\n"
     ]
    }
   ],
   "source": [
    "# linear algebra\n",
    "a = np.array([[1,2,3],[4,5,6],[7,8,9]])\n",
    "eiganvalues, eiganvectors = np.linalg.eig(a)\n",
    "print(eiganvalues)\n",
    "print(eiganvectors)\n",
    "\n",
    "print(eiganvectors[:,0])"
   ]
  },
  {
   "cell_type": "code",
   "execution_count": 177,
   "metadata": {},
   "outputs": [
    {
     "name": "stdout",
     "output_type": "stream",
     "text": [
      "[ 4. -4.  0.]\n",
      "[-0.23333333  0.46666667  0.1       ]\n"
     ]
    }
   ],
   "source": [
    "# solving linear systems\n",
    "A = np.array([[1,2,3],[4,5,6],[7,8,9]])\n",
    "b = np.array([1,2,3])\n",
    "\n",
    "x = np.linalg.inv(A).dot(b)\n",
    "print(x)\n",
    "\n",
    "# instead use:\n",
    "x = np.linalg.solve(A, b)\n",
    "print(x)"
   ]
  },
  {
   "cell_type": "code",
   "execution_count": 178,
   "metadata": {},
   "outputs": [
    {
     "name": "stdout",
     "output_type": "stream",
     "text": [
      "[[1. 2. 3. 4.]\n",
      " [5. 6. 7. 8.]]\n",
      "[[1. 2. 3. 4.]\n",
      " [5. 6. 7. 8.]]\n"
     ]
    }
   ],
   "source": [
    "# loading data from csv files\n",
    "data = np.loadtxt('data.csv', delimiter=',', dtype=np.float32)\n",
    "print(data)\n",
    "data = np.genfromtxt('data.csv', delimiter=',', dtype=np.float32)\n",
    "print(data)"
   ]
  }
 ],
 "metadata": {
  "kernelspec": {
   "display_name": "machineLearning",
   "language": "python",
   "name": "python3"
  },
  "language_info": {
   "codemirror_mode": {
    "name": "ipython",
    "version": 3
   },
   "file_extension": ".py",
   "mimetype": "text/x-python",
   "name": "python",
   "nbconvert_exporter": "python",
   "pygments_lexer": "ipython3",
   "version": "3.9.17"
  },
  "orig_nbformat": 4
 },
 "nbformat": 4,
 "nbformat_minor": 2
}
